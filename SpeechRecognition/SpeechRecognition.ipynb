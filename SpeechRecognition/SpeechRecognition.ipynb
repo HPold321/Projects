{
 "cells": [
  {
   "cell_type": "code",
   "execution_count": 2,
   "id": "1cd45264-f0f1-4278-b49c-f9e9db76c101",
   "metadata": {},
   "outputs": [
    {
     "name": "stdout",
     "output_type": "stream",
     "text": [
      "Collecting SpeechRecognition\n",
      "  Downloading SpeechRecognition-3.10.4-py2.py3-none-any.whl (32.8 MB)\n",
      "\u001b[K     |████████████████████████████████| 32.8 MB 4.3 MB/s eta 0:00:01     |███████████████████████████▌    | 28.2 MB 3.3 MB/s eta 0:00:02\n",
      "\u001b[?25hRequirement already satisfied: requests>=2.26.0 in /usr/local/lib/python3.8/dist-packages (from SpeechRecognition) (2.32.2)\n",
      "Requirement already satisfied: typing-extensions in /home/ananya/.local/lib/python3.8/site-packages (from SpeechRecognition) (4.5.0)\n",
      "Requirement already satisfied: idna<4,>=2.5 in /usr/lib/python3/dist-packages (from requests>=2.26.0->SpeechRecognition) (2.8)\n",
      "Requirement already satisfied: charset-normalizer<4,>=2 in /usr/local/lib/python3.8/dist-packages (from requests>=2.26.0->SpeechRecognition) (3.3.2)\n",
      "Requirement already satisfied: certifi>=2017.4.17 in /usr/lib/python3/dist-packages (from requests>=2.26.0->SpeechRecognition) (2019.11.28)\n",
      "Requirement already satisfied: urllib3<3,>=1.21.1 in /usr/lib/python3/dist-packages (from requests>=2.26.0->SpeechRecognition) (1.25.8)\n",
      "Installing collected packages: SpeechRecognition\n",
      "Successfully installed SpeechRecognition-3.10.4\n"
     ]
    }
   ],
   "source": [
    "!pip install SpeechRecognition"
   ]
  },
  {
   "cell_type": "code",
   "execution_count": 3,
   "id": "63780c36-344e-481f-9a8f-28472d746ad8",
   "metadata": {},
   "outputs": [],
   "source": [
    "import speech_recognition as spr"
   ]
  },
  {
   "cell_type": "code",
   "execution_count": 4,
   "id": "66f49ffa-d545-40ae-a5bf-3dafa7aeaabc",
   "metadata": {},
   "outputs": [
    {
     "data": {
      "text/plain": [
       "'3.10.4'"
      ]
     },
     "execution_count": 4,
     "metadata": {},
     "output_type": "execute_result"
    }
   ],
   "source": [
    "spr.__version__"
   ]
  },
  {
   "cell_type": "code",
   "execution_count": 5,
   "id": "ab16e24f-bb6e-4cfa-963b-5f6c73f43aaa",
   "metadata": {},
   "outputs": [],
   "source": [
    "recog = spr.Recognizer()"
   ]
  },
  {
   "cell_type": "markdown",
   "id": "2aa3a650-9a74-4ca5-97d2-39a7ac0f0bb7",
   "metadata": {},
   "source": [
    "## Convert speech to text"
   ]
  },
  {
   "cell_type": "code",
   "execution_count": 8,
   "id": "3a65115e-2334-4dd1-8735-74c150bff01f",
   "metadata": {},
   "outputs": [],
   "source": [
    "speech = spr.AudioFile(\"/home/ananya/Downloads/speech.wav\")\n",
    "with speech as filesource:\n",
    "    audio = recog.record(filesource)"
   ]
  },
  {
   "cell_type": "code",
   "execution_count": 9,
   "id": "639f6b97-324b-4fb7-8e33-5713dce720d4",
   "metadata": {},
   "outputs": [
    {
     "data": {
      "text/plain": [
       "'hello I am about my mission is to help you convert text to speech and speech to text'"
      ]
     },
     "execution_count": 9,
     "metadata": {},
     "output_type": "execute_result"
    }
   ],
   "source": [
    "recog.recognize_google(audio)"
   ]
  },
  {
   "cell_type": "markdown",
   "id": "8005f06f-bb59-4afe-bc49-ca45d1103c4a",
   "metadata": {},
   "source": [
    "## Convert Speech to Text-- Effect of Noise"
   ]
  },
  {
   "cell_type": "code",
   "execution_count": 10,
   "id": "669de75a-a65e-4299-a7dd-72155e3b5c06",
   "metadata": {},
   "outputs": [
    {
     "name": "stdout",
     "output_type": "stream",
     "text": [
      "The history saving thread hit an unexpected error (OperationalError('attempt to write a readonly database')).History will not be written to the database.\n"
     ]
    },
    {
     "data": {
      "text/plain": [
       "'hello I am about my mission is to help you convert text to speech and speech to text'"
      ]
     },
     "execution_count": 10,
     "metadata": {},
     "output_type": "execute_result"
    }
   ],
   "source": [
    "noisyspeech = spr.AudioFile(\"/home/ananya/Downloads/speech.wav\")\n",
    "\n",
    "with noisyspeech as noisesource:\n",
    "    audio = recog.record(noisesource)\n",
    "\n",
    "recog.recognize_google(audio)"
   ]
  },
  {
   "cell_type": "code",
   "execution_count": 11,
   "id": "dfde2a8c-dfa0-46ce-96f8-8450ff76f1f2",
   "metadata": {},
   "outputs": [
    {
     "data": {
      "text/plain": [
       "'about my mission is to help you convert text to speech and speech to text'"
      ]
     },
     "execution_count": 11,
     "metadata": {},
     "output_type": "execute_result"
    }
   ],
   "source": [
    "with noisyspeech as noisesource:\n",
    "    recog.adjust_for_ambient_noise(noisesource)\n",
    "    audio = recog.record(noisesource)\n",
    "\n",
    "recog.recognize_google(audio)"
   ]
  },
  {
   "cell_type": "code",
   "execution_count": 12,
   "id": "416afe31-44b3-4088-b70c-1f40cc967b1f",
   "metadata": {},
   "outputs": [
    {
     "data": {
      "text/plain": [
       "{'alternative': [{'transcript': 'about my mission is to help you convert text to speech and speech to text'},\n",
       "  {'transcript': 'my mission is to help you convert text to speech and speech to text'}],\n",
       " 'final': True}"
      ]
     },
     "execution_count": 12,
     "metadata": {},
     "output_type": "execute_result"
    }
   ],
   "source": [
    "recog.recognize_google(audio, show_all=True)"
   ]
  }
 ],
 "metadata": {
  "kernelspec": {
   "display_name": "Python 3 (ipykernel)",
   "language": "python",
   "name": "python3"
  },
  "language_info": {
   "codemirror_mode": {
    "name": "ipython",
    "version": 3
   },
   "file_extension": ".py",
   "mimetype": "text/x-python",
   "name": "python",
   "nbconvert_exporter": "python",
   "pygments_lexer": "ipython3",
   "version": "3.8.10"
  }
 },
 "nbformat": 4,
 "nbformat_minor": 5
}
